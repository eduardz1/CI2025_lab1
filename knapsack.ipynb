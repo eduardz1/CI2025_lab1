{
 "cells": [
  {
   "cell_type": "markdown",
   "id": "11fa4375",
   "metadata": {},
   "source": [
    "Copyright **`(c)`** 2025 Giovanni Squillero `<giovanni.squillero@polito.it>`  \n",
    "[`https://github.com/squillero/computational-intelligence`](https://github.com/squillero/computational-intelligence)  \n",
    "Free under certain conditions — see the [`license`](https://github.com/squillero/computational-intelligence/blob/master/LICENSE.md) for details.  "
   ]
  },
  {
   "cell_type": "code",
   "execution_count": 23,
   "id": "c0882a9f",
   "metadata": {},
   "outputs": [],
   "source": [
    "import numpy as np"
   ]
  },
  {
   "cell_type": "code",
   "execution_count": 24,
   "id": "3adb670e",
   "metadata": {},
   "outputs": [],
   "source": [
    "NUM_KNAPSACKS = 3\n",
    "NUM_ITEMS = 10\n",
    "NUM_DIMENSIONS = 2"
   ]
  },
  {
   "cell_type": "code",
   "execution_count": 25,
   "id": "2db51e99",
   "metadata": {},
   "outputs": [],
   "source": [
    "VALUES = np.random.randint(0, 100, size=NUM_ITEMS)\n",
    "WEIGHTS = np.random.randint(0, 100, size=(NUM_ITEMS, NUM_DIMENSIONS))\n",
    "CONSTRAINTS = np.random.randint(\n",
    "    0, 100 * NUM_ITEMS // NUM_KNAPSACKS, size=(NUM_KNAPSACKS, NUM_DIMENSIONS)\n",
    ")"
   ]
  },
  {
   "cell_type": "code",
   "execution_count": 26,
   "id": "15da2136",
   "metadata": {},
   "outputs": [
    {
     "name": "stdout",
     "output_type": "stream",
     "text": [
      "VALUES = [81 21 53 92 32 80 32 90 61 18]\n",
      "WEIGHTS = [[73 68]\n",
      " [62 34]\n",
      " [15 17]\n",
      " [74 85]\n",
      " [25 11]\n",
      " [17 34]\n",
      " [81 94]\n",
      " [84  5]\n",
      " [61 73]\n",
      " [88 74]]\n",
      "CONSTRAINTS = [[163   2]\n",
      " [ 19 263]\n",
      " [130 170]]\n"
     ]
    }
   ],
   "source": [
    "print(f\"VALUES = {VALUES}\")\n",
    "print(f\"WEIGHTS = {WEIGHTS}\")\n",
    "print(f\"CONSTRAINTS = {CONSTRAINTS}\")"
   ]
  },
  {
   "cell_type": "code",
   "execution_count": null,
   "id": "83aadcd8",
   "metadata": {},
   "outputs": [],
   "source": [
    "def value(solution):\n",
    "    return sum(VALUES[i] for i in range(NUM_ITEMS) if solution[i] >= 0)\n",
    "\n",
    "\n",
    "def is_feasible(solution):\n",
    "    total_weights = np.zeros((NUM_KNAPSACKS, NUM_DIMENSIONS), dtype=int)\n",
    "\n",
    "    for i in range(NUM_ITEMS):\n",
    "        k = solution[i]\n",
    "        if k >= 0:\n",
    "            total_weights[k] += WEIGHTS[i]\n",
    "\n",
    "    for k in range(NUM_KNAPSACKS):\n",
    "        for d in range(NUM_DIMENSIONS):\n",
    "            if total_weights[k][d] > CONSTRAINTS[k][d]:\n",
    "                return False\n",
    "\n",
    "    return True\n",
    "\n",
    "\n",
    "def simulated_annealing(max_iterations=10000, initial_temp=1000, cooling_rate=0.995):\n",
    "    \"\"\"Find a good solution to the generalized knapsack problem using simulated annealing.\n",
    "\n",
    "    Args:\n",
    "        max_iterations (int): Maximum number of iterations to perform.\n",
    "        initial_temp (float): Initial temperature for the annealing process.\n",
    "        cooling_rate (float): Rate at which the temperature decreases.\n",
    "    \"\"\"\n",
    "\n",
    "    # Start with a random solution (which might not be feasible)\n",
    "    current_solution = np.random.randint(-1, NUM_KNAPSACKS, size=NUM_ITEMS)\n",
    "\n",
    "    while not is_feasible(current_solution):\n",
    "        # Remove random items until feasible\n",
    "        assigned_items = np.where(current_solution >= 0)[0]\n",
    "        if len(assigned_items) == 0:\n",
    "            break\n",
    "        item_to_remove = np.random.choice(assigned_items)\n",
    "        current_solution[item_to_remove] = -1\n",
    "\n",
    "    current_value = value(current_solution)\n",
    "    best_solution = current_solution.copy()\n",
    "    best_value = current_value\n",
    "\n",
    "    temp = initial_temp\n",
    "\n",
    "    for _ in range(max_iterations):\n",
    "        new_solution = current_solution.copy()\n",
    "        item_to_change = np.random.randint(0, NUM_ITEMS)\n",
    "        new_solution[item_to_change] = np.random.randint(-1, NUM_KNAPSACKS)\n",
    "\n",
    "        if is_feasible(new_solution):\n",
    "            new_value = value(new_solution)\n",
    "            delta = new_value - current_value\n",
    "\n",
    "            # Accepts if equal or better or with a probability based on temperature\n",
    "            if delta >= 0 or np.random.rand() < np.exp(delta / max(temp, 1e-10)):\n",
    "                current_solution = new_solution\n",
    "                current_value = new_value\n",
    "\n",
    "                if current_value > best_value:\n",
    "                    best_solution = current_solution.copy()\n",
    "                    best_value = current_value\n",
    "\n",
    "        temp *= cooling_rate\n",
    "\n",
    "    return best_solution, best_value"
   ]
  },
  {
   "cell_type": "markdown",
   "id": "8e0e0673",
   "metadata": {},
   "source": [
    "## TEST PROBLEMS"
   ]
  },
  {
   "cell_type": "code",
   "execution_count": 28,
   "id": "5595db9c",
   "metadata": {},
   "outputs": [],
   "source": [
    "# Problem 1:\n",
    "rng = np.random.default_rng(seed=42)\n",
    "NUM_KNAPSACKS = 3\n",
    "NUM_ITEMS = 20\n",
    "NUM_DIMENSIONS = 2\n",
    "VALUES = rng.integers(0, 100, size=NUM_ITEMS)\n",
    "WEIGHTS = rng.integers(0, 100, size=(NUM_ITEMS, NUM_DIMENSIONS))\n",
    "CONSTRAINTS = rng.integers(\n",
    "    0, 100 * NUM_ITEMS // NUM_KNAPSACKS, size=(NUM_KNAPSACKS, NUM_DIMENSIONS)\n",
    ")"
   ]
  },
  {
   "cell_type": "code",
   "execution_count": 29,
   "id": "ead34700",
   "metadata": {},
   "outputs": [
    {
     "name": "stdout",
     "output_type": "stream",
     "text": [
      "Problem 1:\n",
      "Best Value: 1065\n",
      "Best Solution: [2 1 0 0 0 2 1 0 0 0 2 1 1 1 1 0 0 2 0 0]\n"
     ]
    }
   ],
   "source": [
    "best_solution, best_value = simulated_annealing()\n",
    "print(\"Problem 1:\")\n",
    "print(f\"Best Value: {best_value}\")\n",
    "print(f\"Best Solution: {best_solution}\")"
   ]
  },
  {
   "cell_type": "code",
   "execution_count": 30,
   "id": "9eed08a0",
   "metadata": {},
   "outputs": [],
   "source": [
    "# Problem 2:\n",
    "rng = np.random.default_rng(seed=42)\n",
    "NUM_KNAPSACKS = 10\n",
    "NUM_ITEMS = 100\n",
    "NUM_DIMENSIONS = 10\n",
    "VALUES = rng.integers(0, 1000, size=NUM_ITEMS)\n",
    "WEIGHTS = rng.integers(0, 1000, size=(NUM_ITEMS, NUM_DIMENSIONS))\n",
    "CONSTRAINTS = rng.integers(\n",
    "    1000 * 2, 1000 * NUM_ITEMS // NUM_KNAPSACKS, size=(NUM_KNAPSACKS, NUM_DIMENSIONS)\n",
    ")"
   ]
  },
  {
   "cell_type": "code",
   "execution_count": 31,
   "id": "66675c9b",
   "metadata": {},
   "outputs": [
    {
     "name": "stdout",
     "output_type": "stream",
     "text": [
      "Problem 2:\n",
      "Best Value: 41171\n",
      "Best Solution: [-1  5  8 -1  8 -1  8  1  7  6  1  6  2  4  3 -1  1  8  7 -1  4  1 -1  4\n",
      "  8  9 -1  6  0  9  6  7  5 -1  7  5  4 -1  5  6  1  9  9  3 -1  8  4  4\n",
      "  4 -1  5 -1  0  1 -1 -1  0  0  5  0  7  4  3 -1  0  9 -1 -1  7  2  2  6\n",
      "  9  9  3 -1 -1  3  5  3 -1 -1 -1  9  3 -1  0  6  5  1  9  8  6  2  0  2\n",
      "  2  4  3  4]\n"
     ]
    }
   ],
   "source": [
    "best_solution, best_value = simulated_annealing()\n",
    "print(\"Problem 2:\")\n",
    "print(f\"Best Value: {best_value}\")\n",
    "print(f\"Best Solution: {best_solution}\")"
   ]
  },
  {
   "cell_type": "code",
   "execution_count": 32,
   "id": "117380d6",
   "metadata": {},
   "outputs": [],
   "source": [
    "# Problem 3:\n",
    "rng = np.random.default_rng(seed=42)\n",
    "NUM_KNAPSACKS = 100\n",
    "NUM_ITEMS = 5000\n",
    "NUM_DIMENSIONS = 100\n",
    "VALUES = rng.integers(0, 1000, size=NUM_ITEMS)\n",
    "WEIGHTS = rng.integers(0, 1000, size=(NUM_ITEMS, NUM_DIMENSIONS))\n",
    "CONSTRAINTS = rng.integers(\n",
    "    1000 * 10,\n",
    "    1000 * 2 * NUM_ITEMS // NUM_KNAPSACKS,\n",
    "    size=(NUM_KNAPSACKS, NUM_DIMENSIONS),\n",
    ")"
   ]
  },
  {
   "cell_type": "code",
   "execution_count": 33,
   "id": "2bbe1e02",
   "metadata": {},
   "outputs": [
    {
     "name": "stdout",
     "output_type": "stream",
     "text": [
      "Problem 3:\n",
      "Best Value: 1133635\n",
      "Best Solution: [-1 -1 18 ... -1  6 44]\n"
     ]
    }
   ],
   "source": [
    "best_solution, best_value = simulated_annealing()\n",
    "print(\"Problem 3:\")\n",
    "print(f\"Best Value: {best_value}\")\n",
    "print(f\"Best Solution: {best_solution}\")"
   ]
  }
 ],
 "metadata": {
  "kernelspec": {
   "display_name": "ci2025-lab1",
   "language": "python",
   "name": "python3"
  },
  "language_info": {
   "codemirror_mode": {
    "name": "ipython",
    "version": 3
   },
   "file_extension": ".py",
   "mimetype": "text/x-python",
   "name": "python",
   "nbconvert_exporter": "python",
   "pygments_lexer": "ipython3",
   "version": "3.12.1"
  }
 },
 "nbformat": 4,
 "nbformat_minor": 5
}
